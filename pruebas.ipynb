{
 "cells": [
  {
   "cell_type": "markdown",
   "metadata": {},
   "source": []
  },
  {
   "cell_type": "code",
   "execution_count": null,
   "metadata": {},
   "outputs": [],
   "source": [
    "#Me he tenido que hacer una función para los tableros porque si no, se liaba más.\n",
    "\n",
    "def crear_tablero():\n",
    "    return [[\" \" for _ in range(10)] for _ in range(10)]\n",
    "\"\"\"\n",
    "    Esta función genera tableros de 10x10 que serán utilizados en los 4 tableros del juego\n",
    "\"\"\"\n"
   ]
  },
  {
   "cell_type": "code",
   "execution_count": 1,
   "metadata": {},
   "outputs": [],
   "source": [
    "#Mi tablero con barcos (esto era el antiguo, luego hice el de arriba)\n",
    "from tabulate import tabulate\n",
    "import random\n",
    "\n",
    "tablero_jugadora =[]\n",
    "for i in range(10):\n",
    "    linea=[]\n",
    "    for j in range(10):\n",
    "        linea.append(\" \")\n",
    "    tablero_jugadora.append(linea)\n"
   ]
  },
  {
   "cell_type": "code",
   "execution_count": null,
   "metadata": {},
   "outputs": [],
   "source": [
    "tablero_jugadora = crear_tablero()\n",
    "# Barcos definidos en posiciones específicas puestas por mí\n",
    "# Barco 1 (1 posición de eslora)\n",
    "tablero_jugadora[9][8] = \"B\"\n",
    "# Barco 2 (1 posición de eslora)\n",
    "tablero_jugadora[9][4] = \"B\"\n",
    "# Barco 3 (1 posición de eslora)\n",
    "tablero_jugadora[7][6] = \"B\"\n",
    "# Barco 4 (1 posición de eslora)\n",
    "tablero_jugadora[5][9] = \"B\"\n",
    "# Barco 5 (2 posiciones de eslora)\n",
    "tablero_jugadora[2][5] = \"B\"\n",
    "tablero_jugadora[2][4] = \"B\"\n",
    "# Barco 6 (2 posiciones de eslora)\n",
    "tablero_jugadora[1][0] = \"B\"\n",
    "tablero_jugadora[2][0] = \"B\"\n",
    "# Barco 7 (2 posiciones de eslora)\n",
    "tablero_jugadora[4][6] = \"B\"\n",
    "tablero_jugadora[4][7] = \"B\"\n",
    "# Barco 8 (3 posiciones de eslora)\n",
    "tablero_jugadora[1][3] = \"B\"\n",
    "tablero_jugadora[1][4] = \"B\"\n",
    "tablero_jugadora[1][5] = \"B\"\n",
    "# Barco 9 (3 posiciones de eslora)\n",
    "tablero_jugadora[1][8] = \"B\"\n",
    "tablero_jugadora[2][8] = \"B\"\n",
    "tablero_jugadora[3][8] = \"B\"\n",
    "# Barco 10 (4 posiciones de eslora)\n",
    "tablero_jugadora[5][2] = \"B\"\n",
    "tablero_jugadora[6][2] = \"B\"\n",
    "tablero_jugadora[7][2] = \"B\"\n",
    "tablero_jugadora[8][2] = \"B\"\n",
    "print (tabulate(tablero_jugadora,stralign=\"center\",tablefmt=\"rounded_grid\"))\n"
   ]
  },
  {
   "cell_type": "code",
   "execution_count": null,
   "metadata": {},
   "outputs": [],
   "source": [
    "tablero_vista_jugadora = crear_tablero ()\n",
    "#Antes tenía lo que vais a ver a continuación, pero hice la función tablero porque era un lío todo."
   ]
  },
  {
   "cell_type": "code",
   "execution_count": null,
   "metadata": {},
   "outputs": [
    {
     "name": "stdout",
     "output_type": "stream",
     "text": [
      "╭──┬──┬──┬──┬──┬──┬──┬──┬──┬──╮\n",
      "│  │  │  │  │  │  │  │  │  │  │\n",
      "├──┼──┼──┼──┼──┼──┼──┼──┼──┼──┤\n",
      "│  │  │  │  │  │  │  │  │  │  │\n",
      "├──┼──┼──┼──┼──┼──┼──┼──┼──┼──┤\n",
      "│  │  │  │  │  │  │  │  │  │  │\n",
      "├──┼──┼──┼──┼──┼──┼──┼──┼──┼──┤\n",
      "│  │  │  │  │  │  │  │  │  │  │\n",
      "├──┼──┼──┼──┼──┼──┼──┼──┼──┼──┤\n",
      "│  │  │  │  │  │  │  │  │  │  │\n",
      "├──┼──┼──┼──┼──┼──┼──┼──┼──┼──┤\n",
      "│  │  │  │  │  │  │  │  │  │  │\n",
      "├──┼──┼──┼──┼──┼──┼──┼──┼──┼──┤\n",
      "│  │  │  │  │  │  │  │  │  │  │\n",
      "├──┼──┼──┼──┼──┼──┼──┼──┼──┼──┤\n",
      "│  │  │  │  │  │  │  │  │  │  │\n",
      "├──┼──┼──┼──┼──┼──┼──┼──┼──┼──┤\n",
      "│  │  │  │  │  │  │  │  │  │  │\n",
      "├──┼──┼──┼──┼──┼──┼──┼──┼──┼──┤\n",
      "│  │  │  │  │  │  │  │  │  │  │\n",
      "╰──┴──┴──┴──┴──┴──┴──┴──┴──┴──╯\n"
     ]
    }
   ],
   "source": [
    "# Mi tablero vacío para visualizar los disparos\n",
    "from tabulate import tabulate\n",
    "\n",
    "tablero_vista_jugadora =[]\n",
    "for i in range(10):\n",
    "    linea=[]\n",
    "    for j in range(10):\n",
    "        linea.append(\" \")\n",
    "    tablero_vista_jugadora.append(linea)\n",
    "tablero_vista_jugadora\n",
    "print (tabulate(tablero_vista_jugadora,tablefmt=\"rounded_grid\"))\n",
    "\n",
    "    "
   ]
  },
  {
   "cell_type": "code",
   "execution_count": null,
   "metadata": {},
   "outputs": [
    {
     "name": "stdout",
     "output_type": "stream",
     "text": [
      "╭───┬──┬───┬───┬───┬───┬───┬───┬───┬───╮\n",
      "│   │  │   │ B │ B │ B │   │   │   │   │\n",
      "├───┼──┼───┼───┼───┼───┼───┼───┼───┼───┤\n",
      "│   │  │ B │   │   │   │   │ B │   │   │\n",
      "├───┼──┼───┼───┼───┼───┼───┼───┼───┼───┤\n",
      "│   │  │ B │   │   │   │   │ B │   │   │\n",
      "├───┼──┼───┼───┼───┼───┼───┼───┼───┼───┤\n",
      "│   │  │   │   │ B │ B │   │ B │   │   │\n",
      "├───┼──┼───┼───┼───┼───┼───┼───┼───┼───┤\n",
      "│   │  │   │   │   │   │   │   │   │   │\n",
      "├───┼──┼───┼───┼───┼───┼───┼───┼───┼───┤\n",
      "│ B │  │   │   │ B │   │   │   │   │ B │\n",
      "├───┼──┼───┼───┼───┼───┼───┼───┼───┼───┤\n",
      "│ B │  │   │   │   │   │ B │   │   │   │\n",
      "├───┼──┼───┼───┼───┼───┼───┼───┼───┼───┤\n",
      "│ B │  │   │   │   │   │ B │ B │   │   │\n",
      "├───┼──┼───┼───┼───┼───┼───┼───┼───┼───┤\n",
      "│ B │  │   │   │   │   │   │   │ B │   │\n",
      "├───┼──┼───┼───┼───┼───┼───┼───┼───┼───┤\n",
      "│   │  │   │   │   │   │   │   │   │   │\n",
      "╰───┴──┴───┴───┴───┴───┴───┴───┴───┴───╯\n"
     ]
    }
   ],
   "source": [
    "#El tablero del ordenador con sus barcos\n",
    "\n",
    "tablero_ordenador = crear_tablero()\n",
    "\n",
    "# Barcos definidos en posiciones específicas puestas por mí\n",
    "# Barco 1 (1 posición de eslora)\n",
    "tablero_ordenador[8][8] = \"B\"\n",
    "# Barco 2 (1 posición de eslora)\n",
    "tablero_ordenador[5][4] = \"B\"\n",
    "# Barco 3 (1 posición de eslora)\n",
    "tablero_ordenador[6][6] = \"B\"\n",
    "# Barco 4 (1 posición de eslora)\n",
    "tablero_ordenador[5][9] = \"B\"\n",
    "# Barco 5 (2 posiciones de eslora)\n",
    "tablero_ordenador[3][5] = \"B\"\n",
    "tablero_ordenador[3][4] = \"B\"\n",
    "# Barco 6 (2 posiciones de eslora)\n",
    "tablero_ordenador[1][2] = \"B\"\n",
    "tablero_ordenador[2][2] = \"B\"\n",
    "# Barco 7 (2 posiciones de eslora)\n",
    "tablero_ordenador[7][6] = \"B\"\n",
    "tablero_ordenador[7][7] = \"B\"\n",
    "# Barco 8 (3 posiciones de eslora)\n",
    "tablero_ordenador[0][3] = \"B\"\n",
    "tablero_ordenador[0][4] = \"B\"\n",
    "tablero_ordenador[0][5] = \"B\"\n",
    "# Barco 9 (3 posiciones de eslora)\n",
    "tablero_ordenador[1][7] = \"B\"\n",
    "tablero_ordenador[2][7] = \"B\"\n",
    "tablero_ordenador[3][7] = \"B\"\n",
    "# Barco 10 (4 posiciones de eslora)\n",
    "tablero_ordenador[5][0] = \"B\"\n",
    "tablero_ordenador[6][0] = \"B\"\n",
    "tablero_ordenador[7][0] = \"B\"\n",
    "tablero_ordenador[8][0] = \"B\"\n",
    "print (tabulate(tablero_ordenador,stralign=\"center\",tablefmt=\"rounded_grid\"))\n"
   ]
  },
  {
   "cell_type": "code",
   "execution_count": null,
   "metadata": {},
   "outputs": [],
   "source": [
    "tablero_vista_ordenador = crear_tablero ()\n"
   ]
  },
  {
   "cell_type": "code",
   "execution_count": 21,
   "metadata": {},
   "outputs": [
    {
     "name": "stdout",
     "output_type": "stream",
     "text": [
      "╭──┬──┬──┬──┬──┬──┬──┬──┬──┬──╮\n",
      "│  │  │  │  │  │  │  │  │  │  │\n",
      "├──┼──┼──┼──┼──┼──┼──┼──┼──┼──┤\n",
      "│  │  │  │  │  │  │  │  │  │  │\n",
      "├──┼──┼──┼──┼──┼──┼──┼──┼──┼──┤\n",
      "│  │  │  │  │  │  │  │  │  │  │\n",
      "├──┼──┼──┼──┼──┼──┼──┼──┼──┼──┤\n",
      "│  │  │  │  │  │  │  │  │  │  │\n",
      "├──┼──┼──┼──┼──┼──┼──┼──┼──┼──┤\n",
      "│  │  │  │  │  │  │  │  │  │  │\n",
      "├──┼──┼──┼──┼──┼──┼──┼──┼──┼──┤\n",
      "│  │  │  │  │  │  │  │  │  │  │\n",
      "├──┼──┼──┼──┼──┼──┼──┼──┼──┼──┤\n",
      "│  │  │  │  │  │  │  │  │  │  │\n",
      "├──┼──┼──┼──┼──┼──┼──┼──┼──┼──┤\n",
      "│  │  │  │  │  │  │  │  │  │  │\n",
      "├──┼──┼──┼──┼──┼──┼──┼──┼──┼──┤\n",
      "│  │  │  │  │  │  │  │  │  │  │\n",
      "├──┼──┼──┼──┼──┼──┼──┼──┼──┼──┤\n",
      "│  │  │  │  │  │  │  │  │  │  │\n",
      "╰──┴──┴──┴──┴──┴──┴──┴──┴──┴──╯\n"
     ]
    }
   ],
   "source": [
    "# Tablero vacío del ordenador para visualizar los disparos\n",
    "from tabulate import tabulate\n",
    "\n",
    "tablero_vista_ordenador =[]\n",
    "for i in range(10):\n",
    "    linea=[]\n",
    "    for j in range(10):\n",
    "        linea.append(\" \")\n",
    "    tablero_vista_ordenador.append(linea)\n",
    "tablero_vista_ordenador\n",
    "print (tabulate(tablero_vista_ordenador,tablefmt=\"rounded_grid\"))"
   ]
  },
  {
   "cell_type": "code",
   "execution_count": null,
   "metadata": {},
   "outputs": [],
   "source": [
    "#Función disparos. Al camiar la forma de crear tableros, tamién he cambiado la función. Podéis ver abajo cómo lo\n",
    "#estba haciendo antes.\n",
    "def disparo (tablero, i,j):\n",
    "    if tablero [i][j]==\"B\":\n",
    "        print(\"Tocado\")\n",
    "        tablero [i][j]=\"x\"\n",
    "        return True\n",
    "    elif tablero [i][j]==\" \":\n",
    "        print (\"Agua\")\n",
    "        tablero [i][j]=\"o\"\n",
    "        return False\n",
    "    else:\n",
    "        print (\"Disparo efectuado anteriormente\")\n",
    "        return False\n",
    "\"\"\"\n",
    "    Esta función servirá para saber lo que debe devolver cada disparo efectuado. \n",
    "    Si toca B, devolverá TOCADO y si toca \"\" devolverá AGUA.\n",
    "    Además, definimos que tocado es True, por lo que el jugador tendrá una tirada más.\n",
    "    Por otro lado, Agua o coordenadas que ya se habían disparado anteriormente devolverán\n",
    "    False. Lo que utilizaremos para decir que es el turno del otro jugador.\n",
    "\"\"\""
   ]
  },
  {
   "cell_type": "code",
   "execution_count": null,
   "metadata": {},
   "outputs": [],
   "source": [
    "#Función disparos (la primera)\n",
    "def disparo (tablero_jugadora, i,j):\n",
    "    if tablero_jugadora [i][j]==\"B\":\n",
    "        print(\"Tocado\")\n",
    "        tablero_jugadora [i][j]=\"x\"\n",
    "        tablero_vista_ordenador[i][j]=\"x\"\n",
    "        return True\n",
    "    elif tablero_jugadora [i][j]==\" \":\n",
    "        print (\"Agua\")\n",
    "        tablero_jugadora [i][j]=\"o\"\n",
    "        tablero_vista_ordenador[i][j]=\"o\"\n",
    "        return False\n",
    "    else:\n",
    "        print (\"Disparo efectuado anteriormente\")\n",
    "        return False\n",
    "\"\"\"\n",
    "    Esta función servirá para saber lo que debe devolver cada disparo efectuado. \n",
    "    Si toca B, devolverá TOCADO y si toca \"\" devolverá AGUA.\n",
    "    Además, definimos que tocado es True, por lo que el jugador tendrá una tirada más.\n",
    "    Por otro lado, Agua o coordenadas que ya se habían disparado anteriormente devolverán\n",
    "    False. Lo que utilizaremos para decir que es el turno del otro jugador.\n",
    "\"\"\""
   ]
  },
  {
   "cell_type": "code",
   "execution_count": 31,
   "metadata": {},
   "outputs": [
    {
     "name": "stdout",
     "output_type": "stream",
     "text": [
      "Agua\n"
     ]
    },
    {
     "ename": "NameError",
     "evalue": "name 'tablero_vista_jugadora' is not defined",
     "output_type": "error",
     "traceback": [
      "\u001b[31m---------------------------------------------------------------------------\u001b[39m",
      "\u001b[31mNameError\u001b[39m                                 Traceback (most recent call last)",
      "\u001b[36mCell\u001b[39m\u001b[36m \u001b[39m\u001b[32mIn[31]\u001b[39m\u001b[32m, line 2\u001b[39m\n\u001b[32m      1\u001b[39m \u001b[38;5;66;03m#Pruebas disparo para ver que todo funciona     \u001b[39;00m\n\u001b[32m----> \u001b[39m\u001b[32m2\u001b[39m \u001b[43mdisparo\u001b[49m\u001b[43m \u001b[49m\u001b[43m(\u001b[49m\u001b[43mtablero_jugadora\u001b[49m\u001b[43m,\u001b[49m\u001b[32;43m3\u001b[39;49m\u001b[43m,\u001b[49m\u001b[32;43m3\u001b[39;49m\u001b[43m)\u001b[49m\n\u001b[32m      3\u001b[39m disparo\n\u001b[32m      4\u001b[39m \u001b[38;5;28mprint\u001b[39m (tabulate(tablero_jugadora,tablefmt=\u001b[33m\"\u001b[39m\u001b[33mrounded_grid\u001b[39m\u001b[33m\"\u001b[39m))\n",
      "\u001b[36mCell\u001b[39m\u001b[36m \u001b[39m\u001b[32mIn[29]\u001b[39m\u001b[32m, line 11\u001b[39m, in \u001b[36mdisparo\u001b[39m\u001b[34m(tablero_jugadora, i, j)\u001b[39m\n\u001b[32m      9\u001b[39m     \u001b[38;5;28mprint\u001b[39m (\u001b[33m\"\u001b[39m\u001b[33mAgua\u001b[39m\u001b[33m\"\u001b[39m)\n\u001b[32m     10\u001b[39m     tablero_jugadora [i][j]=\u001b[33m\"\u001b[39m\u001b[33mo\u001b[39m\u001b[33m\"\u001b[39m\n\u001b[32m---> \u001b[39m\u001b[32m11\u001b[39m     \u001b[43mtablero_vista_jugadora\u001b[49m[i][j]=\u001b[33m\"\u001b[39m\u001b[33mo\u001b[39m\u001b[33m\"\u001b[39m\n\u001b[32m     12\u001b[39m     \u001b[38;5;28;01mreturn\u001b[39;00m \u001b[38;5;28;01mFalse\u001b[39;00m\n\u001b[32m     13\u001b[39m \u001b[38;5;28;01melse\u001b[39;00m:\n",
      "\u001b[31mNameError\u001b[39m: name 'tablero_vista_jugadora' is not defined"
     ]
    }
   ],
   "source": [
    "#Pruebas disparo para ver que todo funciona     \n",
    "disparo (tablero_jugadora,3,3)\n",
    "disparo\n",
    "print (tabulate(tablero_jugadora,tablefmt=\"rounded_grid\"))\n",
    "print (tabulate(tablero_vista_jugadora,tablefmt=\"rounded_grid\"))\n"
   ]
  },
  {
   "cell_type": "code",
   "execution_count": null,
   "metadata": {},
   "outputs": [],
   "source": [
    "\n",
    "#Para calcular las vidas que le quedan\n",
    "def calcular_vidas (tablero_jugadora):\n",
    "    vidas=0\n",
    "    for i in range (10):\n",
    "        for j in range (10):\n",
    "            if tablero_jugadora [i][j]==(\"B\"):\n",
    "             vidas=(vidas+1)\n",
    "             print(vidas)\n",
    "\"\"\"\n",
    "    Esta función servirá para finalizar el juego. Para ello, hace una revisión de las \"B\" \n",
    "    que hay en el tablero de barcos y por cada una de ellas nos devuelve una oportunidad de juego\n",
    "\"\"\""
   ]
  },
  {
   "cell_type": "code",
   "execution_count": null,
   "metadata": {},
   "outputs": [],
   "source": [
    "#Función para pedir coordenadas. \n",
    "#ESto ha sido un lío tremendo. Lo de pasarlo a int lo tenía claro, porque era str.\n",
    "#Pero por otro lado, hay que tener en cuenta que el índice va de 0 a 9 y aquí surgió otro problema. \n",
    "#Hay que restar 1 a los números para que concuerde con el índice. \n",
    "def pedir_coordenada_i():\n",
    "    while True:\n",
    "        try:\n",
    "            i = int(input(\"¡Hola, grumete! Introduce la coordenada i (de 1 a 10): \"))\n",
    "            if 1 <= i <= 10:\n",
    "                return i - 1  #Hay que restar 1 a los números para que concuerde con el índice. \n",
    "            else:\n",
    "                print(\"¡Ay, la leche! Recuerda que el número tiene que ser entre 1 y 10.\")\n",
    "        except ValueError:\n",
    "            print(\"Introduce un número válido, grumete.\")\n",
    "\n",
    "def pedir_coordenada_j():\n",
    "    while True:\n",
    "        try:\n",
    "            j = int(input(\"Introduce la coordenada j (de 1 a 10): \"))\n",
    "            if 1 <= j <= 10:\n",
    "                return j - 1  #Hay que restar 1 a los números para que concuerde con el índice como en la coordenada i. \n",
    "            else:\n",
    "                print(\"¡Ay, la leche! Recuerda que el número tiene que ser entre 1 y 10.\")\n",
    "        except ValueError:\n",
    "            print(\"Introduce un número válido, marinero de agua dulce.\")\n",
    "\"\"\"\n",
    "    Esta función sirve para pedir las coordenadas (i,j) necesarias para realizar los disparos. \n",
    "    Se pide al jugador que las introduzca a través de un input.\n",
    "    Además, pasamos las coordenadas a número entero porque el input nos lo devuelve en str,\n",
    "    Por último, hay que tener en cuenta que el índice de las listas va de 0 a 9, por lo que\n",
    "    hay que restar 1 a los números introducido para que concuerde con el índice. \n",
    "\"\"\""
   ]
  },
  {
   "cell_type": "code",
   "execution_count": null,
   "metadata": {},
   "outputs": [
    {
     "data": {
      "text/plain": [
       "'\\n    Esta función sirve para definir cómo será cada turno y la forma de pasar de un turno a otro.\\n'"
      ]
     },
     "execution_count": 2,
     "metadata": {},
     "output_type": "execute_result"
    }
   ],
   "source": [
    "def turno_jugadora ():\n",
    "    print(\"\\n--- Es el turno de la Jugadora ---\")\n",
    "    while True:\n",
    "        i = pedir_coordenada_i()\n",
    "        j = pedir_coordenada_j()\n",
    "        if disparo_jufadora(tablero_ordenador, i, j):\n",
    "            break \n",
    "         \n",
    "def turno_ordenador ():\n",
    "     print(\"\\n--- Es el turno del ordenador ---\")\n",
    "     while True:\n",
    "        i = pedir_coordenada_i()\n",
    "        j = pedir_coordenada_j()\n",
    "        if disparo_ordenador(tablero_jugadora, i, j):\n",
    "            break \n",
    "\"\"\"\n",
    "    Esta función sirve para definir cómo será cada turno y la forma de pasar de un turno a otro.\n",
    "\"\"\"                "
   ]
  },
  {
   "cell_type": "code",
   "execution_count": null,
   "metadata": {},
   "outputs": [],
   "source": [
    "def jugar():\n",
    "    print(\"En las tormentosas aguas del Mar Cantábrico, la Casa Ziluaga se prepara para enfrentarse a su más temido enemigo: el Señor de Python. En sus majestuosos barcos, las guerreroas de la Casa Ziluaga afilan sus espadas y cargan sus cañones, listos para la batalla. La lucha será feroz, no solo de fuerza, sino de astucia, pues cada disparo puede marcar la diferencia entre la victoria o la derrota. El Señor de Python, con sus habilidades de código como escudo, no dará tregua, y en este duelo de ingenio y destreza, solo una podrá reclamar la gloria. ¡Que los vientos del Cantábrico soplen a favor de la más audaz, pues en este océano de incertidumbre, ni el más mínimo error será perdonado!\")\n",
    "    print(\"Pon a punto los cañones que esto va a empezar. Recuerda que el objetivo del juego es hundir todos los barcos del oponente. BOOOOOOOOOM.\")\n",
    "    print(\"Las instrucciones del juego:\")\n",
    "    print(\"1. El juego se alterna entre tu turno y el turno del ordenador.\")\n",
    "    print(\"2. En tu turno, se te pedirá que introduzcas las coordenadas de disparo.\")\n",
    "\n",
    "    while True:\n",
    "        #Turno de la jugadora\n",
    "        turno_jugadora()\n",
    "\n",
    "        # Mostrar el tablero de vista después del turno de la jugadora\n",
    "        print(\"\\nTablero de la Jugadora:\")\n",
    "        print(tabulate(tablero_vista_jugadora, stralign=\"center\", tablefmt=\"rounded_grid\"))\n",
    "\n",
    "        if calcular_vidas(tablero_ordenador) == 0:\n",
    "            print(\"\\n¡Felicidades, has ganado! El ordenador (Señor de Python) ha sido derrotado.\")\n",
    "            break\n",
    "        \n",
    "        # Turno del ordenador\n",
    "        turno_ordenador()\n",
    "\n",
    "        # Mostrar el tablero de vista después del turno del ordenador\n",
    "        print(\"\\nTablero del Ordenador (Vista):\")\n",
    "        print(tabulate(tablero_vista_ordenador, stralign=\"center\", tablefmt=\"rounded_grid\"))\n",
    "\n",
    "        if calcular_vidas(tablero_jugadora) == 0:\n",
    "            print(\"\\n¡oh, no! Has perdido. El ordenador, alias Señor de Python, ha ganado.\")\n",
    "            break"
   ]
  }
 ],
 "metadata": {
  "kernelspec": {
   "display_name": "Python 3",
   "language": "python",
   "name": "python3"
  },
  "language_info": {
   "codemirror_mode": {
    "name": "ipython",
    "version": 3
   },
   "file_extension": ".py",
   "mimetype": "text/x-python",
   "name": "python",
   "nbconvert_exporter": "python",
   "pygments_lexer": "ipython3",
   "version": "3.11.9"
  }
 },
 "nbformat": 4,
 "nbformat_minor": 2
}
